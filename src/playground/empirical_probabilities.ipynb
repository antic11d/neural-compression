{
 "cells": [
  {
   "cell_type": "code",
   "execution_count": 1,
   "metadata": {},
   "outputs": [],
   "source": [
    "import numpy as np\n",
    "import matplotlib.pyplot as plt"
   ]
  },
  {
   "cell_type": "code",
   "execution_count": 60,
   "metadata": {},
   "outputs": [],
   "source": [
    "LATENT_DIM = 64\n",
    "p = np.array([0.2, 0.1, 0.05, 0.05, 0.3, 0.02, 0.08, 0.15, 0.04, 0.01])\n",
    "categories = list(range(len(p)))\n",
    "\n",
    "SIMULATION_ITERS = 10_000"
   ]
  },
  {
   "cell_type": "code",
   "execution_count": 61,
   "metadata": {},
   "outputs": [],
   "source": [
    "def generate_indices():\n",
    "    return [np.random.choice(categories, p=p) for _ in range(LATENT_DIM)]"
   ]
  },
  {
   "cell_type": "code",
   "execution_count": 62,
   "metadata": {},
   "outputs": [],
   "source": [
    "def simulate():\n",
    "    return np.array([generate_indices() for _ in range(SIMULATION_ITERS)]).T"
   ]
  },
  {
   "cell_type": "code",
   "execution_count": 63,
   "metadata": {},
   "outputs": [
    {
     "name": "stdout",
     "output_type": "stream",
     "text": [
      "(64, 10000)\n",
      "[[1 6 7 ... 1 1 1]\n",
      " [8 4 3 ... 6 0 9]\n",
      " [4 0 6 ... 2 8 1]\n",
      " ...\n",
      " [0 8 0 ... 7 3 6]\n",
      " [7 4 0 ... 7 4 6]\n",
      " [7 8 0 ... 4 4 8]]\n"
     ]
    }
   ],
   "source": [
    "buffer = simulate()\n",
    "print(buffer.shape)\n",
    "print(buffer)"
   ]
  },
  {
   "cell_type": "code",
   "execution_count": 64,
   "metadata": {},
   "outputs": [],
   "source": [
    "def hist_1d(arr):\n",
    "    return np.array([(arr == c).sum() for c in categories])\n",
    "\n",
    "counts = np.apply_along_axis(hist_1d, axis=1, arr=buffer)"
   ]
  },
  {
   "cell_type": "code",
   "execution_count": 65,
   "metadata": {},
   "outputs": [
    {
     "data": {
      "text/plain": [
       "array([[0.197 , 0.1014, 0.0514, 0.0492, 0.3024, 0.0204, 0.0831, 0.1487,\n",
       "        0.0377, 0.0087],\n",
       "       [0.1994, 0.0993, 0.0505, 0.049 , 0.298 , 0.0195, 0.0825, 0.1552,\n",
       "        0.0371, 0.0095],\n",
       "       [0.1947, 0.1051, 0.0513, 0.0493, 0.3028, 0.0188, 0.0762, 0.1514,\n",
       "        0.0395, 0.0109],\n",
       "       [0.1948, 0.0985, 0.0476, 0.05  , 0.2998, 0.0185, 0.087 , 0.1504,\n",
       "        0.0428, 0.0106],\n",
       "       [0.2022, 0.0989, 0.0477, 0.0531, 0.3013, 0.0193, 0.0785, 0.1508,\n",
       "        0.038 , 0.0102],\n",
       "       [0.2039, 0.0966, 0.0504, 0.0489, 0.2991, 0.02  , 0.0807, 0.1483,\n",
       "        0.0428, 0.0093],\n",
       "       [0.202 , 0.1064, 0.0501, 0.05  , 0.2894, 0.0179, 0.0857, 0.15  ,\n",
       "        0.039 , 0.0095],\n",
       "       [0.2011, 0.1003, 0.0508, 0.0503, 0.2975, 0.0194, 0.076 , 0.156 ,\n",
       "        0.0373, 0.0113],\n",
       "       [0.1985, 0.0966, 0.0505, 0.0533, 0.2971, 0.0204, 0.0825, 0.15  ,\n",
       "        0.0412, 0.0099],\n",
       "       [0.2038, 0.105 , 0.0476, 0.0474, 0.2925, 0.0218, 0.0782, 0.1525,\n",
       "        0.0407, 0.0105],\n",
       "       [0.1975, 0.102 , 0.0465, 0.0509, 0.3029, 0.0211, 0.0768, 0.1507,\n",
       "        0.0408, 0.0108],\n",
       "       [0.1985, 0.1008, 0.0477, 0.0479, 0.3088, 0.0197, 0.0797, 0.1504,\n",
       "        0.0365, 0.01  ],\n",
       "       [0.2013, 0.0983, 0.053 , 0.0499, 0.2948, 0.0195, 0.0802, 0.1543,\n",
       "        0.0388, 0.0099],\n",
       "       [0.2043, 0.0993, 0.049 , 0.048 , 0.3023, 0.0209, 0.079 , 0.149 ,\n",
       "        0.0377, 0.0105],\n",
       "       [0.204 , 0.1002, 0.0494, 0.0533, 0.3034, 0.0201, 0.0756, 0.1425,\n",
       "        0.0427, 0.0088],\n",
       "       [0.2018, 0.0986, 0.049 , 0.0501, 0.2958, 0.0166, 0.0857, 0.1493,\n",
       "        0.0416, 0.0115],\n",
       "       [0.1997, 0.0967, 0.0506, 0.0537, 0.2947, 0.0174, 0.0822, 0.1545,\n",
       "        0.041 , 0.0095],\n",
       "       [0.2017, 0.1038, 0.0463, 0.0489, 0.2963, 0.0203, 0.0811, 0.1496,\n",
       "        0.0425, 0.0095],\n",
       "       [0.1935, 0.1081, 0.0468, 0.0513, 0.3019, 0.0195, 0.0771, 0.1543,\n",
       "        0.0376, 0.0099],\n",
       "       [0.1994, 0.0987, 0.0475, 0.0465, 0.3053, 0.0213, 0.0785, 0.1518,\n",
       "        0.0416, 0.0094],\n",
       "       [0.1991, 0.0999, 0.0508, 0.0524, 0.3013, 0.0191, 0.0725, 0.151 ,\n",
       "        0.0438, 0.0101],\n",
       "       [0.2019, 0.0999, 0.0483, 0.0498, 0.3043, 0.0217, 0.0778, 0.147 ,\n",
       "        0.0399, 0.0094],\n",
       "       [0.1975, 0.102 , 0.0505, 0.0493, 0.3038, 0.0196, 0.077 , 0.1511,\n",
       "        0.0388, 0.0104],\n",
       "       [0.1937, 0.098 , 0.0486, 0.0471, 0.3068, 0.0189, 0.0819, 0.1562,\n",
       "        0.0385, 0.0103],\n",
       "       [0.192 , 0.099 , 0.0461, 0.0508, 0.3101, 0.0202, 0.0801, 0.1512,\n",
       "        0.04  , 0.0105],\n",
       "       [0.2039, 0.0976, 0.0507, 0.0466, 0.2995, 0.0206, 0.0829, 0.1488,\n",
       "        0.0396, 0.0098],\n",
       "       [0.2026, 0.1009, 0.0506, 0.0525, 0.2982, 0.0194, 0.0784, 0.1466,\n",
       "        0.0404, 0.0104],\n",
       "       [0.1968, 0.1024, 0.0492, 0.0498, 0.2972, 0.0228, 0.0789, 0.1516,\n",
       "        0.0387, 0.0126],\n",
       "       [0.1925, 0.0957, 0.0497, 0.0522, 0.308 , 0.0193, 0.0829, 0.1502,\n",
       "        0.0407, 0.0088],\n",
       "       [0.2005, 0.104 , 0.0504, 0.0498, 0.2963, 0.0242, 0.0798, 0.1459,\n",
       "        0.039 , 0.0101],\n",
       "       [0.1996, 0.101 , 0.048 , 0.0525, 0.3046, 0.0188, 0.0785, 0.1511,\n",
       "        0.0375, 0.0084],\n",
       "       [0.1978, 0.0987, 0.0525, 0.0493, 0.2986, 0.0197, 0.0814, 0.1512,\n",
       "        0.0413, 0.0095],\n",
       "       [0.2065, 0.1007, 0.0533, 0.0473, 0.2949, 0.0212, 0.0801, 0.1471,\n",
       "        0.0402, 0.0087],\n",
       "       [0.206 , 0.1041, 0.0505, 0.0496, 0.2905, 0.02  , 0.0825, 0.1463,\n",
       "        0.0391, 0.0114],\n",
       "       [0.2015, 0.0998, 0.0538, 0.0457, 0.3049, 0.0195, 0.0784, 0.1496,\n",
       "        0.0367, 0.0101],\n",
       "       [0.2008, 0.101 , 0.0456, 0.0494, 0.3017, 0.0216, 0.0812, 0.1471,\n",
       "        0.0419, 0.0097],\n",
       "       [0.1979, 0.1093, 0.0484, 0.0449, 0.3023, 0.0196, 0.0805, 0.1488,\n",
       "        0.0397, 0.0086],\n",
       "       [0.1942, 0.1021, 0.0557, 0.0484, 0.3011, 0.0204, 0.0757, 0.1523,\n",
       "        0.0415, 0.0086],\n",
       "       [0.1937, 0.1012, 0.0493, 0.0537, 0.3052, 0.0181, 0.0801, 0.1508,\n",
       "        0.0397, 0.0082],\n",
       "       [0.2028, 0.1024, 0.0519, 0.0467, 0.2982, 0.0186, 0.0793, 0.15  ,\n",
       "        0.04  , 0.0101],\n",
       "       [0.2027, 0.097 , 0.0509, 0.0536, 0.2986, 0.0191, 0.0771, 0.1483,\n",
       "        0.0426, 0.0101],\n",
       "       [0.1974, 0.1013, 0.0504, 0.0509, 0.2924, 0.0201, 0.0763, 0.1582,\n",
       "        0.0423, 0.0107],\n",
       "       [0.1987, 0.102 , 0.0476, 0.0497, 0.3061, 0.0155, 0.0779, 0.1502,\n",
       "        0.0407, 0.0116],\n",
       "       [0.2047, 0.1004, 0.0457, 0.0509, 0.2964, 0.0203, 0.0804, 0.1506,\n",
       "        0.0393, 0.0113],\n",
       "       [0.1968, 0.0982, 0.0509, 0.0511, 0.3047, 0.0193, 0.0819, 0.1512,\n",
       "        0.0352, 0.0107],\n",
       "       [0.1986, 0.0952, 0.0514, 0.0524, 0.3038, 0.0185, 0.0788, 0.1496,\n",
       "        0.0413, 0.0104],\n",
       "       [0.195 , 0.0999, 0.0489, 0.0523, 0.2998, 0.0196, 0.0847, 0.1493,\n",
       "        0.0404, 0.0101],\n",
       "       [0.1982, 0.1026, 0.0504, 0.0476, 0.3035, 0.0183, 0.0816, 0.1489,\n",
       "        0.0394, 0.0095],\n",
       "       [0.1998, 0.0959, 0.0545, 0.0476, 0.3022, 0.0205, 0.078 , 0.1505,\n",
       "        0.0396, 0.0114],\n",
       "       [0.1997, 0.1014, 0.0523, 0.0535, 0.3045, 0.0182, 0.0763, 0.1468,\n",
       "        0.0383, 0.009 ],\n",
       "       [0.1942, 0.1013, 0.0499, 0.0537, 0.2991, 0.0184, 0.0828, 0.1502,\n",
       "        0.0392, 0.0112],\n",
       "       [0.2081, 0.0988, 0.0514, 0.0511, 0.2991, 0.0198, 0.075 , 0.1485,\n",
       "        0.0381, 0.0101],\n",
       "       [0.2009, 0.099 , 0.0465, 0.048 , 0.3054, 0.018 , 0.0772, 0.1551,\n",
       "        0.0399, 0.01  ],\n",
       "       [0.1925, 0.1044, 0.0489, 0.0482, 0.3115, 0.0185, 0.0757, 0.1487,\n",
       "        0.0399, 0.0117],\n",
       "       [0.1965, 0.1008, 0.0512, 0.0488, 0.2965, 0.0213, 0.0844, 0.1502,\n",
       "        0.0408, 0.0095],\n",
       "       [0.1955, 0.0978, 0.0474, 0.0486, 0.3099, 0.0191, 0.0841, 0.1494,\n",
       "        0.0396, 0.0086],\n",
       "       [0.2028, 0.1012, 0.0494, 0.0499, 0.298 , 0.0183, 0.078 , 0.1543,\n",
       "        0.0382, 0.0099],\n",
       "       [0.1999, 0.098 , 0.0482, 0.05  , 0.297 , 0.0195, 0.0797, 0.1569,\n",
       "        0.042 , 0.0088],\n",
       "       [0.1942, 0.1053, 0.0521, 0.0491, 0.3009, 0.0195, 0.0849, 0.1456,\n",
       "        0.0383, 0.0101],\n",
       "       [0.1961, 0.104 , 0.0519, 0.0519, 0.2934, 0.0207, 0.0799, 0.1522,\n",
       "        0.039 , 0.0109],\n",
       "       [0.2003, 0.1006, 0.0496, 0.05  , 0.2989, 0.0223, 0.082 , 0.1464,\n",
       "        0.0393, 0.0106],\n",
       "       [0.2008, 0.097 , 0.0506, 0.0548, 0.2992, 0.0197, 0.0783, 0.1499,\n",
       "        0.0402, 0.0095],\n",
       "       [0.2014, 0.1022, 0.0518, 0.0513, 0.2948, 0.0213, 0.0793, 0.1479,\n",
       "        0.0401, 0.0099],\n",
       "       [0.1986, 0.0999, 0.0497, 0.0506, 0.2947, 0.0184, 0.083 , 0.1536,\n",
       "        0.0397, 0.0118]])"
      ]
     },
     "execution_count": 65,
     "metadata": {},
     "output_type": "execute_result"
    }
   ],
   "source": [
    "empirical_probabilities = counts / counts.sum(axis=-1).reshape(-1, 1)\n",
    "empirical_probabilities"
   ]
  },
  {
   "cell_type": "code",
   "execution_count": 66,
   "metadata": {},
   "outputs": [
    {
     "data": {
      "text/plain": [
       "array([0.2 , 0.1 , 0.05, 0.05, 0.3 , 0.02, 0.08, 0.15, 0.04, 0.01])"
      ]
     },
     "execution_count": 66,
     "metadata": {},
     "output_type": "execute_result"
    }
   ],
   "source": [
    "p"
   ]
  },
  {
   "cell_type": "code",
   "execution_count": 91,
   "metadata": {},
   "outputs": [
    {
     "data": {
      "image/png": "[encoded data removed]",
      "text/plain": [
       "<Figure size 1080x720 with 2 Axes>"
      ]
     },
     "metadata": {
      "needs_background": "light"
     },
     "output_type": "display_data"
    }
   ],
   "source": [
    "rand_idx = np.random.randint(empirical_probabilities.shape[0])\n",
    "sample = empirical_probabilities[rand_idx]\n",
    "\n",
    "fig, axs = plt.subplots(2, 1)\n",
    "fig.set_size_inches(15, 10)\n",
    "\n",
    "axs[0].bar(categories, height=p, alpha=0.5, label=\"True probabilities\")\n",
    "axs[0].legend()\n",
    "axs[0].set_xticks(categories)\n",
    "\n",
    "axs[1].bar(categories, height=sample, alpha=0.5, label=\"Estimated probabilities\", color='darkred')\n",
    "axs[1].legend()\n",
    "axs[1].set_xticks(categories)\n",
    "\n",
    "plt.show()"
   ]
  },
  {
   "cell_type": "code",
   "execution_count": null,
   "metadata": {},
   "outputs": [],
   "source": []
  }
 ],
 "metadata": {
  "kernelspec": {
   "display_name": "torch",
   "language": "python",
   "name": "torch"
  },
  "language_info": {
   "codemirror_mode": {
    "name": "ipython",
    "version": 3
   },
   "file_extension": ".py",
   "mimetype": "text/x-python",
   "name": "python",
   "nbconvert_exporter": "python",
   "pygments_lexer": "ipython3",
   "version": "3.8.2"
  }
 },
 "nbformat": 4,
 "nbformat_minor": 4
}
