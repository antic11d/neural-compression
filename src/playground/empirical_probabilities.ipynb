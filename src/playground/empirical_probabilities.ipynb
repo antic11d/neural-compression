{
 "cells": [
  {
   "cell_type": "code",
   "execution_count": 1,
   "metadata": {},
   "outputs": [],
   "source": [
    "import numpy as np\n",
    "import matplotlib.pyplot as plt"
   ]
  },
  {
   "cell_type": "code",
   "execution_count": 2,
   "metadata": {},
   "outputs": [],
   "source": [
    "LATENT_DIM = 64\n",
    "p = np.array([0.2, 0.1, 0.05, 0.05, 0.3, 0.02, 0.08, 0.15, 0.04, 0.01])\n",
    "categories = list(range(len(p)))\n",
    "\n",
    "SIMULATION_ITERS = 10_000"
   ]
  },
  {
   "cell_type": "code",
   "execution_count": 3,
   "metadata": {},
   "outputs": [],
   "source": [
    "def generate_indices():\n",
    "    return [np.random.choice(categories, p=p) for _ in range(LATENT_DIM)]"
   ]
  },
  {
   "cell_type": "code",
   "execution_count": 4,
   "metadata": {},
   "outputs": [],
   "source": [
    "def simulate():\n",
    "    return np.array([generate_indices() for _ in range(SIMULATION_ITERS)]).T"
   ]
  },
  {
   "cell_type": "code",
   "execution_count": 5,
   "metadata": {},
   "outputs": [
    {
     "name": "stdout",
     "output_type": "stream",
     "text": [
      "(64, 10000)\n",
      "[[1 4 4 ... 7 0 0]\n",
      " [0 2 7 ... 4 0 6]\n",
      " [6 0 7 ... 4 4 6]\n",
      " ...\n",
      " [0 0 9 ... 2 6 4]\n",
      " [0 6 4 ... 7 8 3]\n",
      " [7 4 0 ... 0 1 0]]\n"
     ]
    }
   ],
   "source": [
    "buffer = simulate()\n",
    "print(buffer.shape)\n",
    "print(buffer)"
   ]
  },
  {
   "cell_type": "code",
   "execution_count": 6,
   "metadata": {},
   "outputs": [],
   "source": [
    "def hist_1d(arr):\n",
    "    return np.array([(arr == c).sum() for c in categories])\n",
    "\n",
    "counts = np.apply_along_axis(hist_1d, axis=1, arr=buffer)"
   ]
  },
  {
   "cell_type": "code",
   "execution_count": 7,
   "metadata": {},
   "outputs": [
    {
     "data": {
      "text/plain": [
       "array([[0.1962, 0.0931, 0.051 , 0.0498, 0.2983, 0.0186, 0.0834, 0.1595,\n",
       "        0.0392, 0.0109],\n",
       "       [0.1971, 0.0996, 0.0519, 0.0496, 0.2991, 0.0196, 0.0823, 0.1541,\n",
       "        0.0364, 0.0103],\n",
       "       [0.1961, 0.1045, 0.0472, 0.0509, 0.2995, 0.0197, 0.0808, 0.1523,\n",
       "        0.0395, 0.0095],\n",
       "       [0.2082, 0.1007, 0.0523, 0.0455, 0.2923, 0.0219, 0.0836, 0.1461,\n",
       "        0.0394, 0.01  ],\n",
       "       [0.2019, 0.0973, 0.0456, 0.0507, 0.3031, 0.0179, 0.0842, 0.1467,\n",
       "        0.0412, 0.0114],\n",
       "       [0.1976, 0.0951, 0.0505, 0.0527, 0.2976, 0.0205, 0.0822, 0.1517,\n",
       "        0.0428, 0.0093],\n",
       "       [0.202 , 0.1016, 0.0477, 0.052 , 0.298 , 0.0188, 0.0773, 0.1542,\n",
       "        0.0369, 0.0115],\n",
       "       [0.1977, 0.0999, 0.051 , 0.0528, 0.2961, 0.0219, 0.0774, 0.1507,\n",
       "        0.0434, 0.0091],\n",
       "       [0.203 , 0.1003, 0.0514, 0.0481, 0.3047, 0.0226, 0.0754, 0.1484,\n",
       "        0.0358, 0.0103],\n",
       "       [0.1928, 0.1018, 0.05  , 0.0514, 0.303 , 0.0188, 0.0796, 0.1522,\n",
       "        0.0407, 0.0097],\n",
       "       [0.1982, 0.0998, 0.0494, 0.0518, 0.2996, 0.0189, 0.0762, 0.1551,\n",
       "        0.0405, 0.0105],\n",
       "       [0.2006, 0.1008, 0.0501, 0.0484, 0.2961, 0.0176, 0.08  , 0.154 ,\n",
       "        0.04  , 0.0124],\n",
       "       [0.1904, 0.0997, 0.0488, 0.0488, 0.3031, 0.0227, 0.0825, 0.1528,\n",
       "        0.0401, 0.0111],\n",
       "       [0.2023, 0.1041, 0.0515, 0.0485, 0.2974, 0.0209, 0.0781, 0.1457,\n",
       "        0.0414, 0.0101],\n",
       "       [0.2072, 0.0953, 0.0525, 0.0537, 0.2982, 0.018 , 0.0791, 0.1502,\n",
       "        0.0396, 0.0062],\n",
       "       [0.2026, 0.0998, 0.0514, 0.05  , 0.3055, 0.0221, 0.0724, 0.149 ,\n",
       "        0.0383, 0.0089],\n",
       "       [0.2025, 0.0996, 0.0498, 0.0493, 0.3026, 0.0218, 0.0808, 0.1449,\n",
       "        0.0386, 0.0101],\n",
       "       [0.2043, 0.0999, 0.0491, 0.0478, 0.302 , 0.0189, 0.0776, 0.1504,\n",
       "        0.0401, 0.0099],\n",
       "       [0.2032, 0.1053, 0.048 , 0.0512, 0.2894, 0.0205, 0.0822, 0.1497,\n",
       "        0.0397, 0.0108],\n",
       "       [0.2018, 0.1033, 0.0521, 0.0505, 0.2918, 0.0223, 0.0793, 0.1492,\n",
       "        0.0407, 0.009 ],\n",
       "       [0.2006, 0.0989, 0.0496, 0.0512, 0.3021, 0.022 , 0.0778, 0.152 ,\n",
       "        0.0363, 0.0095],\n",
       "       [0.1942, 0.0996, 0.0513, 0.0534, 0.3055, 0.0216, 0.0764, 0.1481,\n",
       "        0.0396, 0.0103],\n",
       "       [0.2072, 0.0983, 0.0483, 0.047 , 0.2998, 0.0187, 0.0803, 0.1476,\n",
       "        0.0418, 0.011 ],\n",
       "       [0.1982, 0.0983, 0.0476, 0.0541, 0.3007, 0.0194, 0.0861, 0.1478,\n",
       "        0.0372, 0.0106],\n",
       "       [0.2044, 0.1013, 0.0524, 0.0492, 0.3005, 0.0222, 0.0733, 0.1497,\n",
       "        0.038 , 0.009 ],\n",
       "       [0.2035, 0.0983, 0.0501, 0.0478, 0.3032, 0.0209, 0.0787, 0.1437,\n",
       "        0.0423, 0.0115],\n",
       "       [0.2094, 0.0978, 0.0511, 0.0485, 0.2995, 0.019 , 0.0797, 0.147 ,\n",
       "        0.0378, 0.0102],\n",
       "       [0.2094, 0.0991, 0.0478, 0.0489, 0.2954, 0.0212, 0.0819, 0.1456,\n",
       "        0.0401, 0.0106],\n",
       "       [0.2063, 0.1008, 0.0485, 0.0502, 0.3031, 0.0196, 0.0769, 0.1441,\n",
       "        0.0398, 0.0107],\n",
       "       [0.1993, 0.1009, 0.0482, 0.0516, 0.2995, 0.0226, 0.0835, 0.146 ,\n",
       "        0.0401, 0.0083],\n",
       "       [0.2016, 0.1043, 0.0556, 0.0497, 0.2994, 0.0207, 0.0756, 0.1453,\n",
       "        0.038 , 0.0098],\n",
       "       [0.2089, 0.1013, 0.0499, 0.0508, 0.2935, 0.0193, 0.0774, 0.1505,\n",
       "        0.0395, 0.0089],\n",
       "       [0.1941, 0.0986, 0.0503, 0.0501, 0.3035, 0.0199, 0.0835, 0.1511,\n",
       "        0.0394, 0.0095],\n",
       "       [0.2086, 0.1022, 0.0508, 0.048 , 0.2912, 0.0226, 0.0782, 0.1475,\n",
       "        0.0416, 0.0093],\n",
       "       [0.1985, 0.1009, 0.0505, 0.0507, 0.3069, 0.0203, 0.079 , 0.1432,\n",
       "        0.0402, 0.0098],\n",
       "       [0.1982, 0.1021, 0.0484, 0.0484, 0.3025, 0.0216, 0.0804, 0.1514,\n",
       "        0.0376, 0.0094],\n",
       "       [0.1926, 0.095 , 0.0511, 0.0461, 0.3033, 0.02  , 0.079 , 0.1628,\n",
       "        0.0411, 0.009 ],\n",
       "       [0.1927, 0.1036, 0.0473, 0.0509, 0.2933, 0.0205, 0.0818, 0.1603,\n",
       "        0.0395, 0.0101],\n",
       "       [0.1981, 0.098 , 0.0508, 0.0505, 0.2982, 0.0209, 0.0824, 0.1534,\n",
       "        0.0367, 0.011 ],\n",
       "       [0.1953, 0.1004, 0.0451, 0.0541, 0.3066, 0.0202, 0.0773, 0.1524,\n",
       "        0.0395, 0.0091],\n",
       "       [0.2069, 0.0955, 0.0489, 0.0499, 0.3009, 0.0203, 0.0797, 0.1492,\n",
       "        0.0402, 0.0085],\n",
       "       [0.2012, 0.1004, 0.0524, 0.0486, 0.2984, 0.0202, 0.0803, 0.1464,\n",
       "        0.0427, 0.0094],\n",
       "       [0.1974, 0.0953, 0.0545, 0.0501, 0.2963, 0.0198, 0.0842, 0.1539,\n",
       "        0.0381, 0.0104],\n",
       "       [0.1995, 0.0978, 0.0502, 0.0508, 0.2993, 0.0185, 0.0846, 0.1455,\n",
       "        0.0425, 0.0113],\n",
       "       [0.1989, 0.1015, 0.0508, 0.0456, 0.2937, 0.0192, 0.0823, 0.1561,\n",
       "        0.0404, 0.0115],\n",
       "       [0.2032, 0.0988, 0.0502, 0.0492, 0.297 , 0.0216, 0.0793, 0.149 ,\n",
       "        0.0431, 0.0086],\n",
       "       [0.2003, 0.0993, 0.0474, 0.0518, 0.3034, 0.0182, 0.0777, 0.1535,\n",
       "        0.0396, 0.0088],\n",
       "       [0.2011, 0.1027, 0.0445, 0.0514, 0.2973, 0.0189, 0.082 , 0.1523,\n",
       "        0.0377, 0.0121],\n",
       "       [0.2012, 0.1021, 0.049 , 0.0504, 0.298 , 0.0202, 0.0808, 0.1487,\n",
       "        0.0375, 0.0121],\n",
       "       [0.2073, 0.1046, 0.0506, 0.0498, 0.2975, 0.0186, 0.0782, 0.1487,\n",
       "        0.0352, 0.0095],\n",
       "       [0.1985, 0.0978, 0.0491, 0.0502, 0.2972, 0.0204, 0.0804, 0.1561,\n",
       "        0.0398, 0.0105],\n",
       "       [0.1929, 0.1006, 0.0506, 0.0492, 0.3047, 0.0215, 0.0746, 0.1513,\n",
       "        0.0422, 0.0124],\n",
       "       [0.1963, 0.0998, 0.0519, 0.0504, 0.3009, 0.0194, 0.0808, 0.1473,\n",
       "        0.0435, 0.0097],\n",
       "       [0.1956, 0.1006, 0.0503, 0.048 , 0.3045, 0.0207, 0.0861, 0.1474,\n",
       "        0.0388, 0.008 ],\n",
       "       [0.1987, 0.0995, 0.0499, 0.0561, 0.3011, 0.0201, 0.0775, 0.1495,\n",
       "        0.0396, 0.008 ],\n",
       "       [0.2013, 0.0992, 0.047 , 0.0505, 0.2966, 0.0201, 0.0798, 0.1526,\n",
       "        0.0423, 0.0106],\n",
       "       [0.1922, 0.0953, 0.0497, 0.0506, 0.309 , 0.0201, 0.0818, 0.1513,\n",
       "        0.0402, 0.0098],\n",
       "       [0.1959, 0.0979, 0.0532, 0.0474, 0.3062, 0.0227, 0.0796, 0.1469,\n",
       "        0.0394, 0.0108],\n",
       "       [0.2009, 0.0958, 0.0515, 0.0466, 0.3111, 0.0209, 0.0785, 0.1474,\n",
       "        0.0378, 0.0095],\n",
       "       [0.198 , 0.1043, 0.0505, 0.0491, 0.2977, 0.0206, 0.0811, 0.1508,\n",
       "        0.0388, 0.0091],\n",
       "       [0.199 , 0.0961, 0.0471, 0.0503, 0.3058, 0.02  , 0.0807, 0.1485,\n",
       "        0.0427, 0.0098],\n",
       "       [0.2055, 0.102 , 0.0474, 0.0486, 0.298 , 0.018 , 0.0809, 0.1507,\n",
       "        0.038 , 0.0109],\n",
       "       [0.1967, 0.096 , 0.053 , 0.0491, 0.3095, 0.0199, 0.0749, 0.1503,\n",
       "        0.0403, 0.0103],\n",
       "       [0.199 , 0.1012, 0.0485, 0.0476, 0.2993, 0.0205, 0.0783, 0.155 ,\n",
       "        0.0413, 0.0093]])"
      ]
     },
     "execution_count": 7,
     "metadata": {},
     "output_type": "execute_result"
    }
   ],
   "source": [
    "empirical_probabilities = counts / counts.sum(axis=-1).reshape(-1, 1)\n",
    "empirical_probabilities"
   ]
  },
  {
   "cell_type": "code",
   "execution_count": 8,
   "metadata": {},
   "outputs": [
    {
     "data": {
      "text/plain": [
       "array([0.2 , 0.1 , 0.05, 0.05, 0.3 , 0.02, 0.08, 0.15, 0.04, 0.01])"
      ]
     },
     "execution_count": 8,
     "metadata": {},
     "output_type": "execute_result"
    }
   ],
   "source": [
    "p"
   ]
  },
  {
   "cell_type": "code",
   "execution_count": 12,
   "metadata": {},
   "outputs": [
    {
     "data": {
      "image/png": "[encoded data removed]",
      "text/plain": [
       "<Figure size 1080x720 with 2 Axes>"
      ]
     },
     "metadata": {
      "needs_background": "light"
     },
     "output_type": "display_data"
    }
   ],
   "source": [
    "rand_idx = np.random.randint(empirical_probabilities.shape[0])\n",
    "sample = empirical_probabilities[rand_idx]\n",
    "\n",
    "fig, axs = plt.subplots(2, 1)\n",
    "fig.set_size_inches(15, 10)\n",
    "\n",
    "axs[0].bar(categories, height=p, alpha=0.5, label=\"True probabilities\")\n",
    "axs[0].legend()\n",
    "axs[0].set_xticks(categories)\n",
    "\n",
    "axs[1].bar(categories, height=sample, alpha=0.5, label=\"Estimated probabilities\", color='darkred')\n",
    "axs[1].legend()\n",
    "axs[1].set_xticks(categories)\n",
    "\n",
    "plt.show()"
   ]
  },
  {
   "cell_type": "code",
   "execution_count": null,
   "metadata": {},
   "outputs": [],
   "source": []
  }
 ],
 "metadata": {
  "kernelspec": {
   "display_name": "torch",
   "language": "python",
   "name": "torch"
  },
  "language_info": {
   "codemirror_mode": {
    "name": "ipython",
    "version": 3
   },
   "file_extension": ".py",
   "mimetype": "text/x-python",
   "name": "python",
   "nbconvert_exporter": "python",
   "pygments_lexer": "ipython3",
   "version": "3.8.2"
  }
 },
 "nbformat": 4,
 "nbformat_minor": 4
}
